{
 "cells": [
  {
   "cell_type": "code",
   "execution_count": null,
   "metadata": {},
   "outputs": [],
   "source": [
    "import os\n",
    "os.environ[\"CUDA_VISIBLE_DEVICES\"] = \"-1\""
   ]
  },
  {
   "cell_type": "code",
   "execution_count": null,
   "metadata": {},
   "outputs": [],
   "source": [
    "import pickle\n",
    "import time\n",
    "import glob\n",
    "import imageio\n",
    "import matplotlib.pyplot as plt\n",
    "import numpy as np\n",
    "import PIL\n",
    "from IPython import display\n",
    "from sklearn.preprocessing import LabelEncoder\n",
    "\n",
    "import utils_img_rec as ut\n",
    "import discriminator as dis\n",
    "import generator as gen\n"
   ]
  },
  {
   "cell_type": "code",
   "execution_count": null,
   "metadata": {},
   "outputs": [],
   "source": [
    "data_path = \"data/mnist_train_1000-pickle.pickle\"\n",
    "out_path = \"data/output/mnist/\"\n",
    "\n",
    "IMG_SIZE = 28\n",
    "channels = 1\n",
    "\n",
    "BUFFER_SIZE = 10000\n",
    "BATCH_SIZE = 200\n",
    "\n",
    "EPOCHS = 100\n",
    "noise_dim = 100\n",
    "num_examples_to_generate = 16"
   ]
  },
  {
   "cell_type": "code",
   "execution_count": null,
   "metadata": {
    "colab": {
     "base_uri": "https://localhost:8080/",
     "height": 53
    },
    "executionInfo": {
     "elapsed": 37,
     "status": "ok",
     "timestamp": 1741440414851,
     "user": {
      "displayName": "Erick Santos Do Nascimento",
      "userId": "13331800293118500437"
     },
     "user_tz": 180
    },
    "id": "WZKbyU2-AiY-",
    "outputId": "4140fad6-9011-4d9c-aed5-27e0bea1c3a2"
   },
   "outputs": [],
   "source": [
    "import tensorflow as tf\n",
    "if tf.test.gpu_device_name():\n",
    "    print('GPU encontrada:', tf.test.gpu_device_name())\n",
    "else:\n",
    "    print('Nenhuma GPU encontrada')\n",
    "tf.__version__"
   ]
  },
  {
   "cell_type": "code",
   "execution_count": null,
   "metadata": {
    "executionInfo": {
     "elapsed": 347,
     "status": "ok",
     "timestamp": 1741440415558,
     "user": {
      "displayName": "Erick Santos Do Nascimento",
      "userId": "13331800293118500437"
     },
     "user_tz": 180
    },
    "id": "UV23Xke26KdP"
   },
   "outputs": [],
   "source": [
    "pickle_in = open(data_path,\"rb\")\n",
    "data_train = pickle.load(pickle_in)"
   ]
  },
  {
   "cell_type": "code",
   "execution_count": null,
   "metadata": {
    "colab": {
     "base_uri": "https://localhost:8080/"
    },
    "executionInfo": {
     "elapsed": 11,
     "status": "ok",
     "timestamp": 1741440415576,
     "user": {
      "displayName": "Erick Santos Do Nascimento",
      "userId": "13331800293118500437"
     },
     "user_tz": 180
    },
    "id": "OYD8BM0HnTd5",
    "outputId": "934bd9e5-e23c-4576-baa8-ff51d49e4971"
   },
   "outputs": [],
   "source": [
    "CATEGORIES = ut.get_classes(data_train)\n",
    "CATEGORIES.sort()\n",
    "try:\n",
    "    CATEGORIES.remove('.ipynb_checkpoints')\n",
    "except:\n",
    "    pass\n",
    "\n",
    "print(CATEGORIES)\n",
    "num_of_classes = len(CATEGORIES)\n",
    "print(num_of_classes)"
   ]
  },
  {
   "cell_type": "code",
   "execution_count": null,
   "metadata": {
    "colab": {
     "base_uri": "https://localhost:8080/"
    },
    "executionInfo": {
     "elapsed": 7,
     "status": "ok",
     "timestamp": 1741440415595,
     "user": {
      "displayName": "Erick Santos Do Nascimento",
      "userId": "13331800293118500437"
     },
     "user_tz": 180
    },
    "id": "IMR9RyhKnUDb",
    "outputId": "5606e598-5b6e-4c48-dc94-00dd5b142dca"
   },
   "outputs": [],
   "source": [
    "train_X, train_y = ut.prep_data(data=data_train, CATEGORIES=CATEGORIES, IMG_SIZE=IMG_SIZE, num_of_channels=channels)\n",
    "print('Entradas de treino - {} - ({}x{})'.format( train_X.shape[0], train_X.shape[1], train_X.shape[2] ))\n",
    "print(train_X.shape)"
   ]
  },
  {
   "cell_type": "code",
   "execution_count": null,
   "metadata": {
    "colab": {
     "base_uri": "https://localhost:8080/",
     "height": 814
    },
    "executionInfo": {
     "elapsed": 3726,
     "status": "ok",
     "timestamp": 1741440419322,
     "user": {
      "displayName": "Erick Santos Do Nascimento",
      "userId": "13331800293118500437"
     },
     "user_tz": 180
    },
    "id": "wmtEwyF_nUzH",
    "outputId": "b84f2b85-73d6-4f89-e3a0-3e45123d447c"
   },
   "outputs": [],
   "source": [
    "ut.plot_images(data_train)"
   ]
  },
  {
   "cell_type": "code",
   "execution_count": null,
   "metadata": {
    "executionInfo": {
     "elapsed": 1,
     "status": "ok",
     "timestamp": 1741440419324,
     "user": {
      "displayName": "Erick Santos Do Nascimento",
      "userId": "13331800293118500437"
     },
     "user_tz": 180
    },
    "id": "N3wv3xU56KaP"
   },
   "outputs": [],
   "source": [
    "train_images = np.array(train_X)\n",
    "train_images = train_images.reshape(-1, IMG_SIZE, IMG_SIZE, 1).astype('float32')\n",
    "train_images = (train_images - 127.5) / 127.5  # Normalize the images to [-1, 1]\n",
    "\n",
    "train_dataset = tf.data.Dataset.from_tensor_slices((train_images, train_y)) \\\n",
    "                               .shuffle(BUFFER_SIZE) \\\n",
    "                               .batch(BATCH_SIZE)"
   ]
  },
  {
   "cell_type": "code",
   "execution_count": null,
   "metadata": {
    "colab": {
     "base_uri": "https://localhost:8080/",
     "height": 482
    },
    "executionInfo": {
     "elapsed": 1015,
     "status": "ok",
     "timestamp": 1741440421516,
     "user": {
      "displayName": "Erick Santos Do Nascimento",
      "userId": "13331800293118500437"
     },
     "user_tz": 180
    },
    "id": "gl7jcC7TdPTG",
    "outputId": "edaefb63-6919-462c-ce43-beaa9de3ec6a"
   },
   "outputs": [],
   "source": [
    "generator = gen.make_generator_model(noise_dim + num_of_classes)\n",
    "\n",
    "extra_values = tf.constant([[0.0, 0.0, 0.0, 0.0, 0.0, 0.0, 0.0, 0.0, 0.0, 1.0]])  # Tensor de shape (1,2)\n",
    "noise = tf.concat([tf.random.normal([1, noise_dim]), extra_values], axis=1)  # Agora shape será (1, 102)\n",
    "\n",
    "generated_image = generator(noise, training=False)\n",
    "\n",
    "plt.imshow(generated_image[0, :, :, 0], cmap='gray')"
   ]
  },
  {
   "cell_type": "code",
   "execution_count": null,
   "metadata": {
    "colab": {
     "base_uri": "https://localhost:8080/"
    },
    "executionInfo": {
     "elapsed": 251,
     "status": "ok",
     "timestamp": 1741440421809,
     "user": {
      "displayName": "Erick Santos Do Nascimento",
      "userId": "13331800293118500437"
     },
     "user_tz": 180
    },
    "id": "gDkA05NE6QMs",
    "outputId": "1f45fe02-3724-4b06-84e8-bba39c7bb105"
   },
   "outputs": [],
   "source": [
    "discriminator = dis.make_discriminator_model(num_of_labels=num_of_classes)\n",
    "decision = discriminator([generated_image,extra_values])\n",
    "print (decision)"
   ]
  },
  {
   "cell_type": "code",
   "execution_count": null,
   "metadata": {
    "executionInfo": {
     "elapsed": 10,
     "status": "ok",
     "timestamp": 1741440421821,
     "user": {
      "displayName": "Erick Santos Do Nascimento",
      "userId": "13331800293118500437"
     },
     "user_tz": 180
    },
    "id": "psQfmXxYKU3X"
   },
   "outputs": [],
   "source": [
    "# This method returns a helper function to compute cross entropy loss\n",
    "cross_entropy = tf.keras.losses.BinaryCrossentropy(from_logits=True)\n",
    "\n",
    "def discriminator_loss(real_output, fake_output):\n",
    "    real_loss = cross_entropy(tf.ones_like(real_output), real_output)\n",
    "    fake_loss = cross_entropy(tf.zeros_like(fake_output), fake_output)\n",
    "    total_loss = real_loss + fake_loss\n",
    "    return total_loss"
   ]
  },
  {
   "cell_type": "code",
   "execution_count": null,
   "metadata": {
    "executionInfo": {
     "elapsed": 12,
     "status": "ok",
     "timestamp": 1741440421834,
     "user": {
      "displayName": "Erick Santos Do Nascimento",
      "userId": "13331800293118500437"
     },
     "user_tz": 180
    },
    "id": "90BIcCKcDMxz"
   },
   "outputs": [],
   "source": [
    "def generator_loss(fake_output):\n",
    "    return cross_entropy(tf.ones_like(fake_output), fake_output)"
   ]
  },
  {
   "cell_type": "code",
   "execution_count": null,
   "metadata": {
    "executionInfo": {
     "elapsed": 19,
     "status": "ok",
     "timestamp": 1741440421854,
     "user": {
      "displayName": "Erick Santos Do Nascimento",
      "userId": "13331800293118500437"
     },
     "user_tz": 180
    },
    "id": "iWCn_PVdEJZ7"
   },
   "outputs": [],
   "source": [
    "generator_optimizer = tf.keras.optimizers.Adam(1e-4)\n",
    "discriminator_optimizer = tf.keras.optimizers.Adam(1e-4)"
   ]
  },
  {
   "cell_type": "code",
   "execution_count": null,
   "metadata": {
    "executionInfo": {
     "elapsed": 11,
     "status": "ok",
     "timestamp": 1741440421871,
     "user": {
      "displayName": "Erick Santos Do Nascimento",
      "userId": "13331800293118500437"
     },
     "user_tz": 180
    },
    "id": "CA1w-7s2POEy"
   },
   "outputs": [],
   "source": [
    "checkpoint_dir = './training_checkpoints'\n",
    "checkpoint_prefix = os.path.join(checkpoint_dir, \"ckpt\")\n",
    "checkpoint = tf.train.Checkpoint(generator_optimizer=generator_optimizer,\n",
    "                                 discriminator_optimizer=discriminator_optimizer,\n",
    "                                 generator=generator,\n",
    "                                 discriminator=discriminator)"
   ]
  },
  {
   "cell_type": "code",
   "execution_count": null,
   "metadata": {
    "colab": {
     "base_uri": "https://localhost:8080/"
    },
    "executionInfo": {
     "elapsed": 55,
     "status": "ok",
     "timestamp": 1741440421927,
     "user": {
      "displayName": "Erick Santos Do Nascimento",
      "userId": "13331800293118500437"
     },
     "user_tz": 180
    },
    "id": "NS2GWywBbAWo",
    "outputId": "4a8d9eb1-c375-4b13-97e2-43fa7341de68"
   },
   "outputs": [],
   "source": [
    "seed, _ = ut.create_seed(num_examples_to_generate=num_examples_to_generate, noise_dim=noise_dim, num_classes=num_of_classes)\n",
    "seed.shape"
   ]
  },
  {
   "cell_type": "code",
   "execution_count": null,
   "metadata": {
    "executionInfo": {
     "elapsed": 12,
     "status": "ok",
     "timestamp": 1741440421940,
     "user": {
      "displayName": "Erick Santos Do Nascimento",
      "userId": "13331800293118500437"
     },
     "user_tz": 180
    },
    "id": "3t5ibNo05jCB"
   },
   "outputs": [],
   "source": [
    "@tf.function\n",
    "def train_step(images, labels):\n",
    "    noise = tf.random.normal([BATCH_SIZE, noise_dim])\n",
    "    labels = tf.cast(labels, tf.float32)  # Converte os labels para float32\n",
    "    noise = tf.concat([noise, labels], axis=1)\n",
    "\n",
    "    with tf.GradientTape() as gen_tape, tf.GradientTape() as disc_tape:\n",
    "        generated_images = generator(noise, training=True)\n",
    "        # Passa os dois inputs para o discriminador: imagem e label\n",
    "        real_output = discriminator([images, labels], training=True)\n",
    "        fake_output = discriminator([generated_images, labels], training=True)\n",
    "\n",
    "        gen_loss = generator_loss(fake_output)\n",
    "        disc_loss = discriminator_loss(real_output, fake_output)\n",
    "\n",
    "    gradients_of_generator = gen_tape.gradient(gen_loss, generator.trainable_variables)\n",
    "    gradients_of_discriminator = disc_tape.gradient(disc_loss, discriminator.trainable_variables)\n",
    "\n",
    "    generator_optimizer.apply_gradients(zip(gradients_of_generator, generator.trainable_variables))\n",
    "    discriminator_optimizer.apply_gradients(zip(gradients_of_discriminator, discriminator.trainable_variables))"
   ]
  },
  {
   "cell_type": "code",
   "execution_count": null,
   "metadata": {
    "executionInfo": {
     "elapsed": 13,
     "status": "ok",
     "timestamp": 1741440421955,
     "user": {
      "displayName": "Erick Santos Do Nascimento",
      "userId": "13331800293118500437"
     },
     "user_tz": 180
    },
    "id": "2M7LmLtGEMQJ"
   },
   "outputs": [],
   "source": [
    "def train(dataset, epochs):\n",
    "    for epoch in range(epochs):\n",
    "        start = time.time()\n",
    "\n",
    "        for image_batch, label_batch in dataset:  # Agora pegamos rótulos junto com imagens\n",
    "            train_step(image_batch, label_batch)  # Passamos diretamente para train_step\n",
    "\n",
    "        # Exibir imagens geradas ao longo do treinamento\n",
    "        display.clear_output(wait=True)\n",
    "        ut.generate_and_save_images(generator, epoch + 1, seed, out_path)\n",
    "\n",
    "        # Salvar modelo a cada 15 épocas\n",
    "        if (epoch + 1) % 15 == 0:\n",
    "            checkpoint.save(file_prefix=checkpoint_prefix)\n",
    "\n",
    "        print(f'Time for epoch {epoch + 1} is {time.time()-start:.2f} sec')\n",
    "\n",
    "    # Gerar imagens após a última época\n",
    "    display.clear_output(wait=True)\n",
    "    ut.generate_and_save_images(generator, epochs, seed, out_path)\n",
    "    print(f'Total training time {time.time()-start:.2f} sec after {epoch+1} epochs')"
   ]
  },
  {
   "cell_type": "code",
   "execution_count": null,
   "metadata": {
    "colab": {
     "base_uri": "https://localhost:8080/",
     "height": 0
    },
    "executionInfo": {
     "elapsed": 18193851,
     "status": "ok",
     "timestamp": 1741458615831,
     "user": {
      "displayName": "Erick Santos Do Nascimento",
      "userId": "13331800293118500437"
     },
     "user_tz": 180
    },
    "id": "Ly3UN0SLLY2l",
    "outputId": "64920ab3-053e-4a11-b808-6652f50d6cda"
   },
   "outputs": [],
   "source": [
    "train(train_dataset, EPOCHS)"
   ]
  },
  {
   "cell_type": "markdown",
   "metadata": {
    "id": "rfM4YcPVPkNO"
   },
   "source": [
    "Restore the latest checkpoint."
   ]
  },
  {
   "cell_type": "code",
   "execution_count": null,
   "metadata": {
    "colab": {
     "base_uri": "https://localhost:8080/"
    },
    "executionInfo": {
     "elapsed": 123,
     "status": "ok",
     "timestamp": 1741458615956,
     "user": {
      "displayName": "Erick Santos Do Nascimento",
      "userId": "13331800293118500437"
     },
     "user_tz": 180
    },
    "id": "XhXsd0srPo8c",
    "outputId": "5b0f0a70-6ea7-45b9-be14-ec390793d68a"
   },
   "outputs": [],
   "source": [
    "checkpoint.restore(tf.train.latest_checkpoint(checkpoint_dir))"
   ]
  },
  {
   "cell_type": "code",
   "execution_count": null,
   "metadata": {
    "executionInfo": {
     "elapsed": 8,
     "status": "ok",
     "timestamp": 1741458615966,
     "user": {
      "displayName": "Erick Santos Do Nascimento",
      "userId": "13331800293118500437"
     },
     "user_tz": 180
    },
    "id": "WfO5wCdclHGL"
   },
   "outputs": [],
   "source": [
    "# Display a single image using the epoch number\n",
    "def display_image(epoch_no):\n",
    "  return PIL.Image.open(out_path+'image_at_epoch_{:04d}.png'.format(epoch_no))"
   ]
  },
  {
   "cell_type": "code",
   "execution_count": null,
   "metadata": {
    "colab": {
     "base_uri": "https://localhost:8080/",
     "height": 0
    },
    "executionInfo": {
     "elapsed": 47,
     "status": "ok",
     "timestamp": 1741458616016,
     "user": {
      "displayName": "Erick Santos Do Nascimento",
      "userId": "13331800293118500437"
     },
     "user_tz": 180
    },
    "id": "5x3q9_Oe5q0A",
    "outputId": "9a06aa4c-87eb-441d-f311-b733ae2c6fe3"
   },
   "outputs": [],
   "source": [
    "display_image(EPOCHS)"
   ]
  },
  {
   "cell_type": "code",
   "execution_count": null,
   "metadata": {
    "colab": {
     "base_uri": "https://localhost:8080/"
    },
    "executionInfo": {
     "elapsed": 250967,
     "status": "ok",
     "timestamp": 1741458866984,
     "user": {
      "displayName": "Erick Santos Do Nascimento",
      "userId": "13331800293118500437"
     },
     "user_tz": 180
    },
    "id": "IGKQgENQ8lEI",
    "outputId": "aa1d22fd-b95e-419d-e0c4-af1755b89336"
   },
   "outputs": [],
   "source": [
    "anim_file = 'dcgan.gif'\n",
    "\n",
    "with imageio.get_writer(anim_file, mode='I') as writer:\n",
    "  filenames = glob.glob(out_path+'image*.png')\n",
    "  filenames = sorted(filenames)\n",
    "  for filename in filenames:\n",
    "    image = imageio.imread(filename)\n",
    "    writer.append_data(image)\n",
    "  image = imageio.imread(filename)\n",
    "  writer.append_data(image)"
   ]
  },
  {
   "cell_type": "code",
   "execution_count": null,
   "metadata": {
    "colab": {
     "base_uri": "https://localhost:8080/",
     "height": 422
    },
    "executionInfo": {
     "elapsed": 9587,
     "status": "ok",
     "timestamp": 1741458876573,
     "user": {
      "displayName": "Erick Santos Do Nascimento",
      "userId": "13331800293118500437"
     },
     "user_tz": 180
    },
    "id": "ZBwyU6t2Wf3g",
    "outputId": "95c3018f-5923-45dd-8d75-f97636faebf7"
   },
   "outputs": [],
   "source": [
    "import tensorflow_docs.vis.embed as embed\n",
    "embed.embed_file(anim_file)"
   ]
  }
 ],
 "metadata": {
  "colab": {
   "provenance": []
  },
  "kernelspec": {
   "display_name": "Python (kernel_conda)",
   "language": "python",
   "name": "meu_ambiente"
  },
  "language_info": {
   "codemirror_mode": {
    "name": "ipython",
    "version": 3
   },
   "file_extension": ".py",
   "mimetype": "text/x-python",
   "name": "python",
   "nbconvert_exporter": "python",
   "pygments_lexer": "ipython3",
   "version": "3.12.9"
  }
 },
 "nbformat": 4,
 "nbformat_minor": 0
}
